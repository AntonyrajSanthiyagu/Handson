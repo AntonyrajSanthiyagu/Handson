{
 "cells": [
  {
   "cell_type": "code",
   "execution_count": 5,
   "id": "8ccbb728-7df0-4665-ae1c-eea305557aff",
   "metadata": {},
   "outputs": [
    {
     "name": "stdin",
     "output_type": "stream",
     "text": [
      "Enter the num1: 30\n"
     ]
    }
   ],
   "source": [
    "num1=int(input(\"Enter the num1:\"))\n",
    "         "
   ]
  },
  {
   "cell_type": "code",
   "execution_count": 9,
   "id": "71a98db6-f18b-4359-bceb-92510ddc833e",
   "metadata": {},
   "outputs": [
    {
     "name": "stdin",
     "output_type": "stream",
     "text": [
      "Enter the num2: 50\n"
     ]
    }
   ],
   "source": [
    "num2=int(input(\"Enter the num2:\"))"
   ]
  },
  {
   "cell_type": "code",
   "execution_count": 15,
   "id": "eaf21e15-ff8c-4378-8c7e-b4acca27b7c8",
   "metadata": {},
   "outputs": [
    {
     "name": "stdin",
     "output_type": "stream",
     "text": [
      "Enter the num1: 30\n",
      "Enter the num2: 50\n"
     ]
    },
    {
     "name": "stdout",
     "output_type": "stream",
     "text": [
      "The answer is: 80\n"
     ]
    }
   ],
   "source": [
    "num1=int(input(\"Enter the num1:\"))\n",
    "num2=int(input(\"Enter the num2:\"))\n",
    "add=num1+num2\n",
    "print(\"The answer is:\",add)\n",
    "               "
   ]
  },
  {
   "cell_type": "code",
   "execution_count": null,
   "id": "836900ac-32df-479d-bbdb-9dad485c3fcc",
   "metadata": {},
   "outputs": [],
   "source": []
  }
 ],
 "metadata": {
  "kernelspec": {
   "display_name": "Python 3 (ipykernel)",
   "language": "python",
   "name": "python3"
  },
  "language_info": {
   "codemirror_mode": {
    "name": "ipython",
    "version": 3
   },
   "file_extension": ".py",
   "mimetype": "text/x-python",
   "name": "python",
   "nbconvert_exporter": "python",
   "pygments_lexer": "ipython3",
   "version": "3.12.4"
  }
 },
 "nbformat": 4,
 "nbformat_minor": 5
}
