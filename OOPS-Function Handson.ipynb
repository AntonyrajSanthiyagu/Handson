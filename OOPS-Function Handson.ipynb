{
 "cells": [
  {
   "cell_type": "code",
   "execution_count": 8,
   "id": "c672bbed-8437-4a21-b77d-343eda829e9a",
   "metadata": {},
   "outputs": [],
   "source": [
    "Lists=[23,67,45,34,36]"
   ]
  },
  {
   "cell_type": "code",
   "execution_count": 15,
   "id": "14503b04-56af-4978-811d-9692ce2cbe64",
   "metadata": {},
   "outputs": [],
   "source": [
    "def Agecategory():\n",
    "    for age in Lists:\n",
    "        if(age<=18):\n",
    "            print(\"Children\")\n",
    "        elif(age<=35):\n",
    "            print(\"Adult\")\n",
    "        elif(age<=59):\n",
    "            print(\"Citizen\")\n",
    "        else:\n",
    "           print(\"Senior Citizen\")"
   ]
  },
  {
   "cell_type": "code",
   "execution_count": 17,
   "id": "2ac4565e-75ef-4186-bb8b-7e784bbd388c",
   "metadata": {},
   "outputs": [
    {
     "name": "stdout",
     "output_type": "stream",
     "text": [
      "Adult\n",
      "Senior Citizen\n",
      "Citizen\n",
      "Adult\n",
      "Citizen\n"
     ]
    }
   ],
   "source": [
    "Agecategory()"
   ]
  },
  {
   "cell_type": "code",
   "execution_count": 19,
   "id": "0aafc8ff-0e4a-4904-be12-518dc1de2da4",
   "metadata": {},
   "outputs": [
    {
     "name": "stdin",
     "output_type": "stream",
     "text": [
      "Enter the Age 24\n"
     ]
    }
   ],
   "source": [
    "age=int(input(\"Enter the Age\"))"
   ]
  },
  {
   "cell_type": "code",
   "execution_count": 25,
   "id": "610d7d52-2259-4d43-98a6-6c397e5a4dd4",
   "metadata": {},
   "outputs": [],
   "source": [
    "def Agecategory():\n",
    "        if(age<=18):\n",
    "            print(\"Children\")\n",
    "            cate=\"Children\"\n",
    "        elif(age<=35):\n",
    "            print(\"Adult\")\n",
    "            cate=\"Adult\"\n",
    "        elif(age<=59):\n",
    "            print(\"Citizen\")\n",
    "            cate=\"Citizen\"\n",
    "        else:\n",
    "           print(\"Senior Citizen\")\n",
    "           cate:\"Senior Citizen\"\n",
    "        return cate"
   ]
  },
  {
   "cell_type": "code",
   "execution_count": 27,
   "id": "d0485b66-383b-43c0-804c-fbcc514d1ba3",
   "metadata": {},
   "outputs": [
    {
     "name": "stdout",
     "output_type": "stream",
     "text": [
      "Adult\n"
     ]
    },
    {
     "data": {
      "text/plain": [
       "'Adult'"
      ]
     },
     "execution_count": 27,
     "metadata": {},
     "output_type": "execute_result"
    }
   ],
   "source": [
    "Agecategory()"
   ]
  },
  {
   "cell_type": "code",
   "execution_count": 29,
   "id": "1edc292b-a814-4322-b059-57f1d63df65b",
   "metadata": {},
   "outputs": [
    {
     "name": "stdout",
     "output_type": "stream",
     "text": [
      "Adult\n"
     ]
    }
   ],
   "source": [
    "agecate=Agecategory()"
   ]
  },
  {
   "cell_type": "code",
   "execution_count": 31,
   "id": "3fdd6402-1208-4331-a6cc-caff685b845c",
   "metadata": {},
   "outputs": [
    {
     "data": {
      "text/plain": [
       "'Adult'"
      ]
     },
     "execution_count": 31,
     "metadata": {},
     "output_type": "execute_result"
    }
   ],
   "source": [
    "agecate"
   ]
  },
  {
   "cell_type": "code",
   "execution_count": null,
   "id": "e0e643e2-3419-41ac-8202-5aa198c9adf2",
   "metadata": {},
   "outputs": [],
   "source": []
  }
 ],
 "metadata": {
  "kernelspec": {
   "display_name": "Python 3 (ipykernel)",
   "language": "python",
   "name": "python3"
  },
  "language_info": {
   "codemirror_mode": {
    "name": "ipython",
    "version": 3
   },
   "file_extension": ".py",
   "mimetype": "text/x-python",
   "name": "python",
   "nbconvert_exporter": "python",
   "pygments_lexer": "ipython3",
   "version": "3.12.4"
  }
 },
 "nbformat": 4,
 "nbformat_minor": 5
}
