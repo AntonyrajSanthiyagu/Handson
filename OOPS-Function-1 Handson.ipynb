{
 "cells": [
  {
   "cell_type": "code",
   "execution_count": 1,
   "id": "55acc8e3-d370-422b-b00e-4d5b98c193c5",
   "metadata": {},
   "outputs": [],
   "source": [
    "def Agecategory():\n",
    "        if(age<=18):\n",
    "            print(\"Children\")\n",
    "            cate=\"Children\"\n",
    "        elif(age<=35):\n",
    "            print(\"Adult\")\n",
    "            cate=\"Adult\"\n",
    "        elif(age<=59):\n",
    "            print(\"Citizen\")\n",
    "            cate=\"Citizen\"\n",
    "        else:\n",
    "           print(\"Senior Citizen\")\n",
    "           cate:\"Senior Citizen\"\n",
    "        return cate"
   ]
  },
  {
   "cell_type": "code",
   "execution_count": 2,
   "id": "eb58defa-7c20-4ef5-8395-866be26868a2",
   "metadata": {},
   "outputs": [
    {
     "name": "stdin",
     "output_type": "stream",
     "text": [
      "Enthe the Age: 25\n"
     ]
    },
    {
     "name": "stdout",
     "output_type": "stream",
     "text": [
      "Adult\n"
     ]
    }
   ],
   "source": [
    "age=int(input(\"Enthe the Age:\"))\n",
    "agecate=Agecategory()"
   ]
  },
  {
   "cell_type": "code",
   "execution_count": 3,
   "id": "126607d8-9f87-44d8-9f07-eb244a313349",
   "metadata": {},
   "outputs": [
    {
     "name": "stdout",
     "output_type": "stream",
     "text": [
      "Adult\n"
     ]
    }
   ],
   "source": [
    "print(agecate)"
   ]
  },
  {
   "cell_type": "code",
   "execution_count": 4,
   "id": "5b091332-ba55-43fc-bbd5-5e891e34eccb",
   "metadata": {},
   "outputs": [],
   "source": [
    "def AgecategoryNoR():\n",
    "        if(age<=18):\n",
    "            print(\"Children\")\n",
    "            cate=\"Children\"\n",
    "        elif(age<=35):\n",
    "            print(\"Adult\")\n",
    "            cate=\"Adult\"\n",
    "        elif(age<=59):\n",
    "            print(\"Citizen\")\n",
    "            cate=\"Citizen\"\n",
    "        else:\n",
    "           print(\"Senior Citizen\")\n",
    "           cate:\"Senior Citizen\"\n",
    "        return cate"
   ]
  },
  {
   "cell_type": "code",
   "execution_count": 5,
   "id": "66d7ee23-01e9-49de-935b-baab2f5adaff",
   "metadata": {},
   "outputs": [
    {
     "name": "stdin",
     "output_type": "stream",
     "text": [
      "Enthe the Age: 45\n"
     ]
    },
    {
     "name": "stdout",
     "output_type": "stream",
     "text": [
      "Citizen\n"
     ]
    },
    {
     "data": {
      "text/plain": [
       "'Citizen'"
      ]
     },
     "execution_count": 5,
     "metadata": {},
     "output_type": "execute_result"
    }
   ],
   "source": [
    "age=int(input(\"Enthe the Age:\"))\n",
    "AgecategoryNoR()"
   ]
  },
  {
   "cell_type": "code",
   "execution_count": 6,
   "id": "7d25ee08-3df1-4425-820a-c7065e179934",
   "metadata": {},
   "outputs": [],
   "source": [
    "def oddEven():\n",
    "    num=int(input(\"Enter the number:\"))\n",
    "    if ((num%2==0)):\n",
    "        print(\"Even Number\")\n",
    "        message=\"Even Number\"\n",
    "    else:\n",
    "        print(\"Odd Number\")\n",
    "        message=\"Odd Number\"\n",
    "    return message"
   ]
  },
  {
   "cell_type": "code",
   "execution_count": 7,
   "id": "67e32003-58f5-4dc2-9433-873f7724af89",
   "metadata": {},
   "outputs": [
    {
     "name": "stdin",
     "output_type": "stream",
     "text": [
      "Enter the number: 26\n"
     ]
    },
    {
     "name": "stdout",
     "output_type": "stream",
     "text": [
      "Even Number\n"
     ]
    },
    {
     "data": {
      "text/plain": [
       "'Even Number'"
      ]
     },
     "execution_count": 7,
     "metadata": {},
     "output_type": "execute_result"
    }
   ],
   "source": [
    "oddEven()"
   ]
  },
  {
   "cell_type": "code",
   "execution_count": 8,
   "id": "dbb9b2e9-12c8-4163-be4f-b4e1b6e838f9",
   "metadata": {},
   "outputs": [
    {
     "name": "stdin",
     "output_type": "stream",
     "text": [
      "Enter the number: 47\n"
     ]
    },
    {
     "name": "stdout",
     "output_type": "stream",
     "text": [
      "Odd Number\n"
     ]
    }
   ],
   "source": [
    "message=oddEven()"
   ]
  },
  {
   "cell_type": "code",
   "execution_count": 9,
   "id": "8da0bb96-1afa-4d30-9b6d-adad516b4231",
   "metadata": {},
   "outputs": [
    {
     "name": "stdout",
     "output_type": "stream",
     "text": [
      "The given number is odd\n"
     ]
    }
   ],
   "source": [
    "if(message==\"Even Number\"):\n",
    "    print(\"The given number is even\")\n",
    "else:\n",
    "    print(\"The given number is odd\")"
   ]
  },
  {
   "cell_type": "code",
   "execution_count": 19,
   "id": "780d079b-5034-4e4f-9c05-d80e1d3d2e4d",
   "metadata": {},
   "outputs": [],
   "source": [
    "def BMI():\n",
    "    BMI=int(input(\"Enter the BMI Index:\"))\n",
    "    if(BMI<18.5):\n",
    "        print(\"Under Weight\")\n",
    "        message=\"Under Weight\"\n",
    "    elif(BMI<24.9):\n",
    "        print(\"Normal\")\n",
    "        message=\"Normal\"\n",
    "    elif(BMI<29.9):\n",
    "        print(\"Over Weight\")\n",
    "        message=\"Over Weight\"\n",
    "    elif(BMI<39.9):\n",
    "        print(\"Obese\")\n",
    "        message=\"Obese\"\n",
    "    else:\n",
    "        print(\"Extremely Obese\")\n",
    "        message=\"Extremely Obese\"\n",
    "    return message"
   ]
  },
  {
   "cell_type": "code",
   "execution_count": 21,
   "id": "8952b4a7-dbab-4c1b-aa8d-1f1e25ab4e4e",
   "metadata": {},
   "outputs": [
    {
     "name": "stdin",
     "output_type": "stream",
     "text": [
      "Enter the BMI Index: 24\n"
     ]
    },
    {
     "name": "stdout",
     "output_type": "stream",
     "text": [
      "Normal\n"
     ]
    }
   ],
   "source": [
    "bmi=BMI()"
   ]
  },
  {
   "cell_type": "code",
   "execution_count": null,
   "id": "789e4f50-13b7-4be6-88e2-061b606e6e1a",
   "metadata": {},
   "outputs": [],
   "source": [
    "def addition(num1,num2):\n",
    "    add=num1+num2\n",
    "    return add"
   ]
  },
  {
   "cell_type": "code",
   "execution_count": null,
   "id": "5583bdc4-8555-48db-9b52-7921e5fdae09",
   "metadata": {},
   "outputs": [],
   "source": [
    "addition(5,4)"
   ]
  },
  {
   "cell_type": "code",
   "execution_count": null,
   "id": "0c569ec2-8768-4d53-baad-932197e8396e",
   "metadata": {},
   "outputs": [],
   "source": [
    "def sub(num1,num2):\n",
    "    sub=num1-num2\n",
    "    return sub"
   ]
  },
  {
   "cell_type": "code",
   "execution_count": null,
   "id": "03ce9e57-f7f5-4af3-98ed-55364d461e4e",
   "metadata": {},
   "outputs": [],
   "source": [
    "sub(8,9)"
   ]
  },
  {
   "cell_type": "code",
   "execution_count": 23,
   "id": "5c90c35a-6f60-4692-a0f7-eab16341e140",
   "metadata": {},
   "outputs": [],
   "source": [
    "class multipleFunctions():\n",
    "    def oddEven():\n",
    "        num=int(input(\"Enter the number:\"))\n",
    "        if ((num%2==0)):\n",
    "            print(\"Even Number\")\n",
    "            message=\"Even Number\"\n",
    "        else:\n",
    "            print(\"Odd Number\")\n",
    "            message=\"Odd Number\"\n",
    "        return message\n",
    "        \n",
    "    def BMI():\n",
    "        BMI=int(input(\"Enter the BMI Index:\"))\n",
    "        if(BMI<18.5):\n",
    "            print(\"Under Weight\")\n",
    "            message=\"Under Weight\"\n",
    "        elif(BMI<24.9):\n",
    "            print(\"Normal\")\n",
    "            message=\"Normal\"\n",
    "        elif(BMI<29.9):\n",
    "            print(\"Over Weight\")\n",
    "            message=\"Over Weight\"\n",
    "        elif(BMI<39.9):\n",
    "            print(\"Obese\")\n",
    "            message=\"Obese\"\n",
    "        else:\n",
    "            print(\"Exytremely Obese\")\n",
    "            message=\"Extremely Obese\"\n",
    "        return message"
   ]
  },
  {
   "cell_type": "code",
   "execution_count": 27,
   "id": "da2c9fba-c35c-4c5a-b72c-2da3f50dccdc",
   "metadata": {},
   "outputs": [
    {
     "name": "stdin",
     "output_type": "stream",
     "text": [
      "Enter the BMI Index: 45\n"
     ]
    },
    {
     "name": "stdout",
     "output_type": "stream",
     "text": [
      "Exytremely Obese\n"
     ]
    },
    {
     "data": {
      "text/plain": [
       "'Extremely Obese'"
      ]
     },
     "execution_count": 27,
     "metadata": {},
     "output_type": "execute_result"
    }
   ],
   "source": [
    "multipleFunctions.BMI()"
   ]
  },
  {
   "cell_type": "code",
   "execution_count": 29,
   "id": "0e0187d5-4c76-4bd1-befe-2c3010fb5dbc",
   "metadata": {},
   "outputs": [
    {
     "name": "stdin",
     "output_type": "stream",
     "text": [
      "Enter the number: 6\n"
     ]
    },
    {
     "name": "stdout",
     "output_type": "stream",
     "text": [
      "Even Number\n"
     ]
    },
    {
     "data": {
      "text/plain": [
       "'Even Number'"
      ]
     },
     "execution_count": 29,
     "metadata": {},
     "output_type": "execute_result"
    }
   ],
   "source": [
    "multipleFunctions.oddEven()"
   ]
  },
  {
   "cell_type": "code",
   "execution_count": null,
   "id": "ea6b8022-9f66-4cd8-bbff-a0864fdf64d4",
   "metadata": {},
   "outputs": [],
   "source": []
  }
 ],
 "metadata": {
  "kernelspec": {
   "display_name": "Python 3 (ipykernel)",
   "language": "python",
   "name": "python3"
  },
  "language_info": {
   "codemirror_mode": {
    "name": "ipython",
    "version": 3
   },
   "file_extension": ".py",
   "mimetype": "text/x-python",
   "name": "python",
   "nbconvert_exporter": "python",
   "pygments_lexer": "ipython3",
   "version": "3.12.4"
  }
 },
 "nbformat": 4,
 "nbformat_minor": 5
}
