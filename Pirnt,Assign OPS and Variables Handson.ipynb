{
 "cells": [
  {
   "cell_type": "code",
   "execution_count": 1,
   "id": "f3a6b716-df5e-42b8-b6aa-02da655ab1b3",
   "metadata": {},
   "outputs": [
    {
     "name": "stdout",
     "output_type": "stream",
     "text": [
      "Welcome to Hope AI\n"
     ]
    }
   ],
   "source": [
    "print(\"Welcome to Hope AI\")"
   ]
  },
  {
   "cell_type": "code",
   "execution_count": 5,
   "id": "af1b0979-37a3-466f-b0bf-75e69f91c61d",
   "metadata": {},
   "outputs": [
    {
     "name": "stdout",
     "output_type": "stream",
     "text": [
      "The addition of two numberss\n",
      "The number1: 10\n",
      "The number2: 30\n",
      "The answer: 40\n"
     ]
    }
   ],
   "source": [
    "print(\"The addition of two numberss\")\n",
    "num1=10\n",
    "print(\"The number1:\",num1)\n",
    "num2=30\n",
    "print(\"The number2:\",num2)\n",
    "add=num1+num2\n",
    "print(\"The answer:\",add)"
   ]
  },
  {
   "cell_type": "code",
   "execution_count": null,
   "id": "cd335761-a4da-49e5-938a-7517542a45ba",
   "metadata": {},
   "outputs": [],
   "source": []
  }
 ],
 "metadata": {
  "kernelspec": {
   "display_name": "Python 3 (ipykernel)",
   "language": "python",
   "name": "python3"
  },
  "language_info": {
   "codemirror_mode": {
    "name": "ipython",
    "version": 3
   },
   "file_extension": ".py",
   "mimetype": "text/x-python",
   "name": "python",
   "nbconvert_exporter": "python",
   "pygments_lexer": "ipython3",
   "version": "3.12.4"
  }
 },
 "nbformat": 4,
 "nbformat_minor": 5
}
